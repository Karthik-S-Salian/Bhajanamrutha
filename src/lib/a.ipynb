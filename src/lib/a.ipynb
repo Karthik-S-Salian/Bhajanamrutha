{
 "cells": [
  {
   "cell_type": "code",
   "execution_count": 31,
   "metadata": {},
   "outputs": [],
   "source": [
    "import json\n",
    "with open(\"./../data/data.json\",\"r\") as fh:\n",
    "    data = json.loads(fh.read())"
   ]
  },
  {
   "cell_type": "code",
   "execution_count": 32,
   "metadata": {},
   "outputs": [
    {
     "data": {
      "text/plain": [
       "['meta',\n",
       " 'kannada',\n",
       " 'english',\n",
       " 'media',\n",
       " 'tag',\n",
       " 'kannada_title',\n",
       " 'english_title',\n",
       " 'id',\n",
       " 'tags']"
      ]
     },
     "execution_count": 32,
     "metadata": {},
     "output_type": "execute_result"
    }
   ],
   "source": [
    "list(data[0].keys())"
   ]
  },
  {
   "cell_type": "code",
   "execution_count": 33,
   "metadata": {},
   "outputs": [
    {
     "name": "stdout",
     "output_type": "stream",
     "text": [
      "52 ಪೋಷಿಸು ಎನ್ನಯ ದೋಷಗಳೆಣಿಸದೆ ದಾಸರಾಯ no\n",
      "78 ಶ್ರೀ ಹರಿ ಸ್ತೋತ್ರಂ – ಜಗಜ್ಜಾಲಪಾಲಂ ಕಚತ್ಕಂಠಮಾಲಂ no\n",
      "176 ಸ್ವಾಮಿ ಅಯ್ಯಪ್ಪ ಸ್ವಾಮಿ ಅಯ್ಯಪ್ಪ no\n",
      "192 ಲೋಕವೀರಂ ಮಹಾಪೂಜ್ಯಂ no\n",
      "681 ನವರಾತ್ರಿಯ ನವದುರ್ಗೆಯರು no\n"
     ]
    }
   ],
   "source": [
    "for i,song in enumerate(data):\n",
    "    try:\n",
    "        if(song[\"english_title\"].strip()==\"\"):\n",
    "            print(i,song[\"kannada_title\"])\n",
    "    except KeyError:\n",
    "        print(i,song[\"kannada_title\"],\"no\")"
   ]
  },
  {
   "cell_type": "code",
   "execution_count": 34,
   "metadata": {},
   "outputs": [],
   "source": [
    "data[52][\"english_title\"] = \"poshishu yennanu doshagalenisade dasaraya\"\n",
    "data[78][\"english_title\"] = \"shri hari sthrotram - jagajjalapaalam kachatkantamaalam\"\n",
    "data[176][\"english_title\"] = \"swami ayyappa swami ayyappa\" \n",
    "data[192][\"english_title\"] = \"lokaveeram mahaapoojyam\"\n",
    "data[681][\"english_title\"] = \"navarathri navadurgeyaru\""
   ]
  },
  {
   "cell_type": "code",
   "execution_count": 35,
   "metadata": {},
   "outputs": [
    {
     "name": "stdout",
     "output_type": "stream",
     "text": [
      "set()\n"
     ]
    }
   ],
   "source": [
    "s=set()\n",
    "for song in data:\n",
    "    \n",
    "    for cat in song.get('categories',[]):\n",
    "        s.add(cat)\n",
    "\n",
    "print(s)"
   ]
  },
  {
   "cell_type": "code",
   "execution_count": 36,
   "metadata": {},
   "outputs": [],
   "source": [
    "import re\n",
    "regex = r\"[!\\\"`'#%&,.:;<>=@{}~\\$\\(\\)\\*\\+\\/\\\\\\?\\[\\]\\^\\|]\""
   ]
  },
  {
   "cell_type": "code",
   "execution_count": 37,
   "metadata": {},
   "outputs": [],
   "source": [
    "for i,song in enumerate(data):\n",
    "    l=[]\n",
    "    if song.get(\"tags\",None) is not None:\n",
    "        l.extend(song.pop(\"tags\"))\n",
    "    if song.get(\"categories\",None) is not None:\n",
    "        l.extend(data[i].pop(\"categories\"))\n",
    "    if song.get(\"tag\",None) is not None:\n",
    "        l.extend(song.pop(\"tag\"))\n",
    "    song[\"tags\"] = [re.sub(r\" {1,}\",\" \",re.sub(regex,\"\",x)).lower() for x in l]"
   ]
  },
  {
   "cell_type": "code",
   "execution_count": 38,
   "metadata": {},
   "outputs": [],
   "source": [
    "import pathlib"
   ]
  },
  {
   "cell_type": "code",
   "execution_count": 39,
   "metadata": {},
   "outputs": [],
   "source": [
    "def concat_song(song):\n",
    "    text =\"\\n\"\n",
    "    for para in song:\n",
    "        for line in para:\n",
    "            text+=line+\"\\n\"\n",
    "        text+=\"\\n\"\n",
    "    return text\n",
    "\n",
    "for song in data:\n",
    "    song[\"kannada\"] = concat_song(song[\"kannada\"])\n",
    "    song[\"english\"] = concat_song(song[\"english\"])"
   ]
  },
  {
   "cell_type": "code",
   "execution_count": 40,
   "metadata": {},
   "outputs": [],
   "source": [
    "base_dir = pathlib.Path(\"./../content/bhajan/\")\n",
    "\n",
    "for song in data:\n",
    "    filename:str = song[\"kannada_title\"].strip()\n",
    "    if(filename==\"\"):\n",
    "        print(song[\"english_title\"])\n",
    "        continue\n",
    "    slug = \"-\".join(filename.split(\" \"))\n",
    "    song:dict = song\n",
    "    song.pop(\"id\")\n",
    "    with open(base_dir/f\"{slug}.json\",\"w\") as fh:\n",
    "        json.dump(song,fh,indent=4)\n"
   ]
  }
 ],
 "metadata": {
  "kernelspec": {
   "display_name": "venv",
   "language": "python",
   "name": "python3"
  },
  "language_info": {
   "codemirror_mode": {
    "name": "ipython",
    "version": 3
   },
   "file_extension": ".py",
   "mimetype": "text/x-python",
   "name": "python",
   "nbconvert_exporter": "python",
   "pygments_lexer": "ipython3",
   "version": "3.11.4"
  },
  "orig_nbformat": 4
 },
 "nbformat": 4,
 "nbformat_minor": 2
}
